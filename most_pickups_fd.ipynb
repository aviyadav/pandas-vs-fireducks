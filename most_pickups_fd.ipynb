{
 "cells": [
  {
   "cell_type": "code",
   "execution_count": null,
   "metadata": {},
   "outputs": [],
   "source": [
    "import time\n",
    "import fireducks.pandas as pd\n",
    "\n",
    "start_time = time.time()\n",
    "\n",
    "\n",
    "df2=pd.read_parquet(\"data/\")._evaluate()\n",
    "\n",
    "# Stop the timer\n",
    "end_time = time.time()\n",
    "\n",
    "# Calculate the elapsed time\n",
    "elapsed_time = end_time - start_time\n",
    "\n",
    "print(f\"Time taken to execute the code: {elapsed_time} seconds\")\n",
    "print('df2 shape = ' , df2.shape)"
   ]
  },
  {
   "cell_type": "code",
   "execution_count": null,
   "metadata": {},
   "outputs": [],
   "source": [
    "\n",
    "\n",
    "# Start the timer\n",
    "start_time = time.time()\n",
    "\n",
    "\n",
    "df2['pickup_hour'] = df2['pickup_datetime'].dt.hour\n",
    "df2['pickup_minute'] = df2['pickup_datetime'].dt.minute\n",
    "pickup_time_hour = df2['pickup_hour'].value_counts()\n",
    "pickup_time_minute = df2['pickup_minute'].value_counts()._evaluate()\n",
    "busiest_pickup_time = str(pickup_time_hour.idxmax()).zfill(2) + ':' + str(pickup_time_minute.idxmax()).zfill(2)\n",
    "\n",
    "# Stop the timer\n",
    "end_time = time.time()\n",
    "\n",
    "# Calculate the elapsed time\n",
    "elapsed_time = end_time - start_time\n",
    "\n",
    "print(f\"Time taken to execute the code: {elapsed_time} seconds\")\n",
    "\n",
    "print(\"The busiest pick-up time was \",busiest_pickup_time)\n",
    "\n",
    "# The above output\n",
    "#\n",
    "# Time taken to execute the code: 0.15785479545593262 seconds\n",
    "\n",
    "\n",
    "# The busiest pick-up time was  18:05"
   ]
  }
 ],
 "metadata": {
  "language_info": {
   "name": "python"
  }
 },
 "nbformat": 4,
 "nbformat_minor": 2
}
