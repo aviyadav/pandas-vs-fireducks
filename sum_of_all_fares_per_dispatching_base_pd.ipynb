{
 "cells": [
  {
   "cell_type": "code",
   "execution_count": null,
   "metadata": {},
   "outputs": [],
   "source": [
    "import time\n",
    "import pandas as pd\n",
    "\n",
    "start_time = time.time()\n",
    "\n",
    "df1=pd.read_parquet(\"data/\")\n",
    "\n",
    "end_time = time.time()\n",
    "\n",
    "elapsed_time = end_time - start_time\n",
    "\n",
    "print(f\"Time taken to execute the code: {elapsed_time} seconds\")\n",
    "print('df1 shape = ' , df1.shape)"
   ]
  },
  {
   "cell_type": "code",
   "execution_count": null,
   "metadata": {},
   "outputs": [],
   "source": [
    "start_time = time.time()\n",
    "\n",
    "\n",
    "total_revenue = df1.groupby('dispatching_base_num')[['base_passenger_fare']].sum()\n",
    "\n",
    "# Stop the timer\n",
    "end_time = time.time()\n",
    "\n",
    "# Calculate the elapsed time\n",
    "elapsed_time = end_time - start_time\n",
    "\n",
    "print(f\"Time taken to execute the code: {elapsed_time} seconds\")\n",
    "print(total_revenue)\n",
    "\n",
    "# The above output\n",
    "#\n",
    "# >>\n",
    "\n",
    "# Time taken to execute the code: 1.160231113433838 seconds\n",
    "\n",
    "#                       base_passenger_fare\n",
    "# dispatching_base_num                     \n",
    "# B02395                       6.661307e+06\n",
    "# B02510                       1.999461e+08\n",
    "# B02512                       2.801947e+06\n",
    "# B02617                       1.645285e+07\n",
    "# ...\n",
    "# ...\n",
    "# B02884                       1.483151e+07\n",
    "# B02887                       1.924022e+07\n",
    "# B02888                       1.036373e+07\n",
    "# B02889                       8.383459e+06\n",
    "# B03136                       1.131464e+05"
   ]
  }
 ],
 "metadata": {
  "language_info": {
   "name": "python"
  }
 },
 "nbformat": 4,
 "nbformat_minor": 2
}
