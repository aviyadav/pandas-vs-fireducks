{
 "cells": [
  {
   "cell_type": "code",
   "execution_count": null,
   "metadata": {},
   "outputs": [],
   "source": [
    "import time\n",
    "import pandas as pd\n",
    "\n",
    "start_time = time.time()\n",
    "\n",
    "df1=pd.read_parquet(\"data/\")\n",
    "\n",
    "end_time = time.time()\n",
    "\n",
    "elapsed_time = end_time - start_time\n",
    "\n",
    "print(f\"Time taken to execute the code: {elapsed_time} seconds\")\n",
    "print('df1 shape = ' , df1.shape)"
   ]
  },
  {
   "cell_type": "code",
   "execution_count": null,
   "metadata": {},
   "outputs": [],
   "source": [
    "\n",
    "\n",
    "start_time = time.time()\n",
    "\n",
    "df1['pickup_day_of_week'] = df1['pickup_datetime'].dt.day_name()\n",
    "average_fare_per_day = df1.groupby('pickup_day_of_week')['base_passenger_fare'].mean()\n",
    "# Stop the timer\n",
    "end_time = time.time()\n",
    "\n",
    "# Calculate the elapsed time\n",
    "elapsed_time = end_time - start_time\n",
    "\n",
    "print(f\"Time taken to execute the code: {elapsed_time} seconds\")\n",
    "\n",
    "print(average_fare_per_day)\n",
    "\n",
    "# The above output\n",
    "#\n",
    "# >>\n",
    "\n",
    "# The above output\n",
    "#\n",
    "# >>\n",
    "\n",
    "# Time taken to execute the code: 4.7080793380737305 seconds\n",
    "\n",
    "\n",
    "# pickup_day_of_week\n",
    "# Friday       19.196114\n",
    "# Monday       18.635439\n",
    "# Saturday     18.579994\n",
    "# Sunday       18.824496\n",
    "# Thursday     18.783837\n",
    "# Tuesday      18.263375\n",
    "# Wednesday    18.674722\n",
    "# Name: base_passenger_fare, dtype: float64"
   ]
  }
 ],
 "metadata": {
  "language_info": {
   "name": "python"
  }
 },
 "nbformat": 4,
 "nbformat_minor": 2
}
