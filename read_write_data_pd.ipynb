{
 "cells": [
  {
   "cell_type": "code",
   "execution_count": 1,
   "id": "b81bc26c-2666-476c-bb73-ef368cbfd130",
   "metadata": {},
   "outputs": [],
   "source": [
    "import time\n",
    "import pandas as pd"
   ]
  },
  {
   "cell_type": "code",
   "execution_count": null,
   "id": "39442793-1bf7-4bc5-aa7c-172c69b119d4",
   "metadata": {},
   "outputs": [],
   "source": [
    "# regular Pandas \n",
    "# Start the timer\n",
    "start_time = time.time()\n",
    "\n",
    "df1=pd.read_parquet(\"data/\")\n",
    "\n",
    "end_time = time.time()\n",
    "\n",
    "elapsed_time = end_time - start_time\n",
    "\n",
    "print(f\"Time taken to execute the code: {elapsed_time} seconds\")\n",
    "print('df1 shape = ' , df1.shape)\n",
    "\n",
    "# The above output\n",
    "#\n",
    "# >>\n",
    "\n",
    "# Time taken to execute the code: 36.008440256118774 seconds\n",
    "# df1 shape =  (37749803, 24)"
   ]
  },
  {
   "cell_type": "code",
   "execution_count": null,
   "id": "7ab8c2dc-76a6-4144-9507-f413374a00ab",
   "metadata": {},
   "outputs": [],
   "source": [
    "start_time = time.time()\n",
    "\n",
    "# df1.to_csv('/mnt/d/csv/output1.txt', index=False, sep=',') \n",
    "\n",
    "# imroved option \n",
    "df1.to_csv('/mnt/d/csv/output1.txt', index=False, quotechar='\"', quoting=1)\n",
    "\n",
    "# Stop the timer\n",
    "end_time = time.time()\n",
    "\n",
    "# Calculate the elapsed time\n",
    "elapsed_time = end_time - start_time\n",
    "\n",
    "print(f\"Time taken to execute the code: {elapsed_time} seconds\")\n",
    "\n",
    "# The above output\n",
    "#\n",
    "# >>\n",
    "\n",
    "# Time taken to execute the code: 330.7677836418152 seconds"
   ]
  }
 ],
 "metadata": {
  "kernelspec": {
   "display_name": "Python 3 (ipykernel)",
   "language": "python",
   "name": "python3"
  },
  "language_info": {
   "codemirror_mode": {
    "name": "ipython",
    "version": 3
   },
   "file_extension": ".py",
   "mimetype": "text/x-python",
   "name": "python",
   "nbconvert_exporter": "python",
   "pygments_lexer": "ipython3",
   "version": "3.10.12"
  }
 },
 "nbformat": 4,
 "nbformat_minor": 5
}
