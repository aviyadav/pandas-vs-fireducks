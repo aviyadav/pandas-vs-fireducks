{
 "cells": [
  {
   "cell_type": "code",
   "execution_count": null,
   "id": "7ab8c2dc-76a6-4144-9507-f413374a00ab",
   "metadata": {},
   "outputs": [],
   "source": [
    "import time\n",
    "import fireducks.pandas as pd"
   ]
  },
  {
   "cell_type": "code",
   "execution_count": null,
   "id": "401b8f79-fb59-444d-916c-a1d63a39ba8b",
   "metadata": {},
   "outputs": [],
   "source": [
    "start_time = time.time()\n",
    "\n",
    "\n",
    "df2=pd.read_parquet(\"data/\")._evaluate()\n",
    "\n",
    "# Stop the timer\n",
    "end_time = time.time()\n",
    "\n",
    "# Calculate the elapsed time\n",
    "elapsed_time = end_time - start_time\n",
    "\n",
    "print(f\"Time taken to execute the code: {elapsed_time} seconds\")\n",
    "print('df2 shape = ' , df2.shape)\n",
    "\n",
    "\n",
    "# The above output\n",
    "#\n",
    "# >>\n",
    "# Time taken to execute the code: 38.72760605812073 seconds\n",
    "# df2 shape =  (37749803, 24)"
   ]
  },
  {
   "cell_type": "code",
   "execution_count": null,
   "id": "268763cf-93a9-4583-a8e1-84bef744fd66",
   "metadata": {},
   "outputs": [],
   "source": [
    "start_time = time.time()\n",
    "\n",
    "\n",
    "df2.to_csv('/mnt/d/csv/output2.txt', index=False, sep=',')\n",
    "\n",
    "end_time = time.time()\n",
    "\n",
    "# Calculate the elapsed time\n",
    "elapsed_time = end_time - start_time\n",
    "\n",
    "print(f\"Time taken to execute the code: {elapsed_time} seconds\")\n",
    "\n",
    "# The above output\n",
    "#\n",
    "# >>\n",
    "\n",
    "\n",
    "# Time taken to execute the code: 107.55127429962158 seconds"
   ]
  }
 ],
 "metadata": {
  "kernelspec": {
   "display_name": "Python 3 (ipykernel)",
   "language": "python",
   "name": "python3"
  },
  "language_info": {
   "codemirror_mode": {
    "name": "ipython",
    "version": 3
   },
   "file_extension": ".py",
   "mimetype": "text/x-python",
   "name": "python",
   "nbconvert_exporter": "python",
   "pygments_lexer": "ipython3",
   "version": "3.10.12"
  }
 },
 "nbformat": 4,
 "nbformat_minor": 5
}
